{
 "cells": [
  {
   "cell_type": "code",
   "execution_count": 2,
   "id": "698bdf53",
   "metadata": {},
   "outputs": [
    {
     "name": "stdout",
     "output_type": "stream",
     "text": [
      "Nodes Datei erfolgreich erstellt.\n"
     ]
    }
   ],
   "source": [
    "import pandas as pd\n",
    "\n",
    "# CSV-Datei laden\n",
    "csv_file = \"entity_co_occurrence_analysis.csv\"\n",
    "df = pd.read_csv(csv_file)\n",
    "\n",
    "# Eindeutige Knoten extrahieren\n",
    "unique_nodes = set(df[\"source\"]).union(set(df[\"target\"]))\n",
    "\n",
    "# DataFrame \n",
    "nodes_df = pd.DataFrame(list(unique_nodes), columns=[\"label\"])\n",
    "nodes_df.reset_index(inplace=True)\n",
    "nodes_df.rename(columns={\"index\": \"id\"}, inplace=True)\n",
    "nodes_df[\"id\"] += 1  # Nummerierung von 1 an\n",
    "\n",
    "# Speicherung\n",
    "nodes_csv_file = \"nodes_people3.csv\"\n",
    "nodes_df.to_csv(nodes_csv_file, index=False)\n",
    "\n",
    "print(\"Nodes Datei erfolgreich erstellt.\")\n"
   ]
  },
  {
   "cell_type": "code",
   "execution_count": null,
   "id": "8d8dac18",
   "metadata": {},
   "outputs": [],
   "source": []
  }
 ],
 "metadata": {
  "kernelspec": {
   "display_name": "Python 3 (ipykernel)",
   "language": "python",
   "name": "python3"
  },
  "language_info": {
   "codemirror_mode": {
    "name": "ipython",
    "version": 3
   },
   "file_extension": ".py",
   "mimetype": "text/x-python",
   "name": "python",
   "nbconvert_exporter": "python",
   "pygments_lexer": "ipython3",
   "version": "3.9.7"
  }
 },
 "nbformat": 4,
 "nbformat_minor": 5
}
