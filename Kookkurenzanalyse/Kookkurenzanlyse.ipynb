{
 "cells": [
  {
   "cell_type": "code",
   "execution_count": 3,
   "id": "68cecb31",
   "metadata": {},
   "outputs": [
    {
     "name": "stdout",
     "output_type": "stream",
     "text": [
      "Kookkurrenzanalyse abgeschlossen. Die Ergebnisse wurden in '5entity_co_occurrence_analysis.csv' gespeichert.\n"
     ]
    }
   ],
   "source": [
    "import nltk\n",
    "from nltk.corpus import stopwords\n",
    "import csv\n",
    "\n",
    "input_entities_file_path = \"PERSON_entities.txt\"  #  Datei mit den Entitäten\n",
    "input_text_file_path = \"cleaned_lemmatized_text_KG-full.txt\"  # Textdatei\n",
    "output_file_path = \"5entity_co_occurrence_analysis.csv\"  # Ausgabedatei\n",
    "\n",
    "# Entitäten aus der Datei + case-folding\n",
    "with open(input_entities_file_path, 'r', encoding='utf-8') as entities_file:\n",
    "    entities = [entity.strip().lower() for entity in entities_file.readlines()]\n",
    "\n",
    "\n",
    "# Funktion zur Kookkurrenzanalyse \n",
    "def entity_co_occurrence_analysis(text, entities, min_frequency, max_distance):\n",
    "    entity_co_occurrence_matrix = {entity: {co_entity: 0 for co_entity in entities if co_entity != entity}\n",
    "                                  for entity in entities}\n",
    "\n",
    "    sentences = nltk.sent_tokenize(text.lower())\n",
    "\n",
    "    for sentence in sentences:\n",
    "        tokens = nltk.word_tokenize(sentence)\n",
    "        stop_words = set(stopwords.words('english'))\n",
    "        filtered_words = [word for word in tokens if word.isalpha() and word not in stop_words]\n",
    "\n",
    "        for i in range(len(filtered_words)):\n",
    "            word_i = filtered_words[i]\n",
    "            for source_entity in entities:\n",
    "                if word_i == source_entity:\n",
    "                    for j in range(i + 1, min(i + max_distance + 1, len(filtered_words))):\n",
    "                        word_j = filtered_words[j]\n",
    "                        for target_entity in entities:\n",
    "                            if word_j == target_entity and source_entity != target_entity:\n",
    "                                entity_co_occurrence_matrix[source_entity][target_entity] += 1\n",
    "                                entity_co_occurrence_matrix[target_entity][source_entity] += 1\n",
    "                                break  # Beende die innere Schleife, da die Entität bereits gefunden wurde\n",
    "\n",
    "    # Filterung basierend auf max_distance & min_frequency\n",
    "    filtered_entity_co_occurrence_matrix = {entity: {co_entity: co_occurrence\n",
    "                                                     for co_entity, co_occurrence in co_occurrences.items()\n",
    "                                                     if co_occurrence >= min_frequency}\n",
    "                                           for entity, co_occurrences in entity_co_occurrence_matrix.items()}\n",
    "\n",
    "    return filtered_entity_co_occurrence_matrix\n",
    "\n",
    "# Text einlesen\n",
    "with open(input_text_file_path, 'r', encoding='utf-8') as file:\n",
    "    text = file.read()\n",
    "\n",
    "min_frequency = 10\n",
    "max_distance = 15\n",
    "entity_co_occurrence_matrix = entity_co_occurrence_analysis(text, entities, min_frequency, max_distance)\n",
    "\n",
    "# Speicherung\n",
    "with open(output_file_path, 'w', newline='', encoding='utf-8') as csvfile:\n",
    "    writer = csv.writer(csvfile)\n",
    "    writer.writerow([\"source\", \"target\", \"weight\"])\n",
    "    for source_entity, co_occurrences in entity_co_occurrence_matrix.items():\n",
    "        for target_entity, co_occurrence in co_occurrences.items():\n",
    "            writer.writerow([source_entity, target_entity, co_occurrence])\n",
    "\n",
    "print(\"Kookkurrenzanalyse abgeschlossen. Die Ergebnisse wurden in '{}' gespeichert.\".format(output_file_path))\n"
   ]
  },
  {
   "cell_type": "code",
   "execution_count": null,
   "id": "1c4e9a48",
   "metadata": {},
   "outputs": [],
   "source": []
  }
 ],
 "metadata": {
  "kernelspec": {
   "display_name": "Python 3 (ipykernel)",
   "language": "python",
   "name": "python3"
  },
  "language_info": {
   "codemirror_mode": {
    "name": "ipython",
    "version": 3
   },
   "file_extension": ".py",
   "mimetype": "text/x-python",
   "name": "python",
   "nbconvert_exporter": "python",
   "pygments_lexer": "ipython3",
   "version": "3.9.7"
  }
 },
 "nbformat": 4,
 "nbformat_minor": 5
}
